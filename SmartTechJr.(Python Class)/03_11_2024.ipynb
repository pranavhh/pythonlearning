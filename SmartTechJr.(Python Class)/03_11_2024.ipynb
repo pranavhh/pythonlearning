{
  "nbformat": 4,
  "nbformat_minor": 0,
  "metadata": {
    "colab": {
      "provenance": []
    },
    "kernelspec": {
      "name": "python3",
      "display_name": "Python 3"
    },
    "language_info": {
      "name": "python"
    }
  },
  "cells": [
    {
      "cell_type": "markdown",
      "source": [
        "**Print**\n",
        " is\n",
        " used\n",
        "  to\n",
        "   print\n",
        "    the\n",
        "     desired\n",
        "      message\n",
        "       on\n",
        "        a\n",
        "        device's\n",
        "        screen\n",
        "\n",
        "  To print, we can write the statement and then put what we wanna print into (\" and close it.\n",
        "  So to print \"Hello World\", we would do:"
      ],
      "metadata": {
        "id": "aUyBavxOv8BE"
      }
    },
    {
      "cell_type": "code",
      "source": [
        "print (\"Hello World!\")"
      ],
      "metadata": {
        "id": "hCJ7LUEFwlEG",
        "colab": {
          "base_uri": "https://localhost:8080/"
        },
        "outputId": "6046c279-196d-490e-f235-0dd9474e3804"
      },
      "execution_count": null,
      "outputs": [
        {
          "output_type": "stream",
          "name": "stdout",
          "text": [
            "Hello World!\n"
          ]
        }
      ]
    },
    {
      "cell_type": "markdown",
      "source": [
        "**Variables** are containers for storing data values.\n",
        "\n",
        "**To Create Variables:**\n",
        "\n",
        "Python has no command for declaring a variable.\n",
        "A variable is created the moment you first assign a value to it.\n",
        "It will do nothing at first, You need to do something with the value\n",
        "for it to give any output. In this example we've printed the variables.\n",
        "Lets see how to do that"
      ],
      "metadata": {
        "id": "h8jzFHIrxCZX"
      }
    },
    {
      "cell_type": "code",
      "source": [
        "A=\"Pranav\"\n",
        "B = 2834\n",
        "print (A)\n",
        "print (B)"
      ],
      "metadata": {
        "colab": {
          "base_uri": "https://localhost:8080/"
        },
        "id": "3LH8UWxNzGb-",
        "outputId": "fc98b8a3-ad89-4c8c-efeb-b36737dfdb2e"
      },
      "execution_count": null,
      "outputs": [
        {
          "output_type": "stream",
          "name": "stdout",
          "text": [
            "Pranav\n",
            "2834\n"
          ]
        }
      ]
    },
    {
      "cell_type": "markdown",
      "source": [
        "Just like the last example, in this example too we are going to print the\n",
        "variables but, unlike the last example where we printed the whole\n",
        "variable, in this example we are just going to **print a specific part of the\n",
        "variable. To do that, we do the same thing but we specify which parts we want\n",
        "by saying the starting and ending positions.** Let us see what are the positions of each character of \"Hi Python!\"\n",
        "\n",
        "**H I  P Y T H O N !**\n",
        "\n",
        "0 1 2 3 4 5 6 7 8 9\n",
        "\n",
        "Here, we can see that H has Position 0, I has position 1, <space> has position 2, P has position 3, Y has position 4, T has position 5, H has position 6, O has position 7, N has position 8, ! has position 9.\n",
        "\n",
        "Lets see how we print specific parts of a variable"
      ],
      "metadata": {
        "id": "4aQkAofx029-"
      }
    },
    {
      "cell_type": "code",
      "source": [
        "x = \"Hello, World\"\n",
        "\n",
        "print (x[2:5])\n",
        "print (x[:5])#From here we can see that if we don't give a starting position,\n",
        "             #it auto assigns 0, the first position as the starting\n",
        "             #position\n"
      ],
      "metadata": {
        "colab": {
          "base_uri": "https://localhost:8080/"
        },
        "id": "FD8UyFay4763",
        "outputId": "6a01e284-90cb-46d9-ccb7-d49d1a7dbac2"
      },
      "execution_count": null,
      "outputs": [
        {
          "output_type": "stream",
          "name": "stdout",
          "text": [
            "llo\n",
            "Hello\n"
          ]
        }
      ]
    },
    {
      "cell_type": "markdown",
      "source": [
        "Now, lets learn **how to print the variables in all capital, all lower case, without spaces, and how to split and print the variables**.\n",
        "\n",
        "To do so for the first three things which I said, this is how you do it - You should put . after the variable name and then put **upper for capital, lower for lowercase, and strip for no spaces** then, you should add an extra bracket, close it, and then close the main bracket, and you're done.** To split and print them, the word is split , you need to do the same as all the above three, but, unlike the above three, you need to put the charecter which is the middle and you want to split either side in double quotes inside the extra bracket."
      ],
      "metadata": {
        "id": "kmnLqJvb6Dm_"
      }
    },
    {
      "cell_type": "code",
      "source": [
        "c=\" python, java \"\n",
        "print (c.upper())\n",
        "print (c.lower())\n",
        "print (c.strip())\n",
        "print (c.split(\",\"))"
      ],
      "metadata": {
        "colab": {
          "base_uri": "https://localhost:8080/"
        },
        "id": "UjJYal9nmLGb",
        "outputId": "2174e134-e1a8-4adc-a225-516c13e72d65"
      },
      "execution_count": null,
      "outputs": [
        {
          "output_type": "stream",
          "name": "stdout",
          "text": [
            " PYTHON, JAVA \n",
            " python, java \n",
            "python, java\n",
            "[' python', ' java ']\n"
          ]
        }
      ]
    },
    {
      "cell_type": "markdown",
      "source": [
        "Now lets see how to merge two words:"
      ],
      "metadata": {
        "id": "0Dc2JEZV-Nb2"
      }
    },
    {
      "cell_type": "code",
      "source": [
        "CLNA1= \"Smart\"\n",
        "CLNA2= \"Tech\"\n",
        "CLNA3= \"Junior\"\n",
        "\n",
        "CLNA = CLNA1 + \" \"+ CLNA2 +\" \" + CLNA3 #Adding \" \" means adding a <space>\n",
        "\n",
        "print (CLNA)"
      ],
      "metadata": {
        "colab": {
          "base_uri": "https://localhost:8080/"
        },
        "id": "HvS1WFn9-p6E",
        "outputId": "f4d6908a-8d09-4c5d-a281-69647e8b99ac"
      },
      "execution_count": 4,
      "outputs": [
        {
          "output_type": "stream",
          "name": "stdout",
          "text": [
            "Smart Tech Junior\n"
          ]
        }
      ]
    },
    {
      "cell_type": "markdown",
      "source": [
        "Lets see how to make a variable with another variable like making a Variable with your age"
      ],
      "metadata": {
        "id": "BTP1vPVgAg2-"
      }
    },
    {
      "cell_type": "code",
      "source": [
        "Age=10\n",
        "Statment=\"My age is \" +str(Age)\n",
        "\n",
        "print (Statment)\n",
        "\n",
        "#or you could use the format method, I call pro method\n",
        "\n",
        "Age=10\n",
        "Statment= f\"My age is \"\n",
        "print (f\"My age is {Age}\")"
      ],
      "metadata": {
        "colab": {
          "base_uri": "https://localhost:8080/"
        },
        "id": "2WERgZJcBDbz",
        "outputId": "56f3c680-6bcd-4ac1-cf51-c4d9e500fc5e"
      },
      "execution_count": 18,
      "outputs": [
        {
          "output_type": "stream",
          "name": "stdout",
          "text": [
            "My age is 10\n",
            "My age is 10\n"
          ]
        }
      ]
    },
    {
      "cell_type": "markdown",
      "source": [
        "Lets see how to **do mathematical operations in sentences**.\n",
        "\n",
        "Its easy to this, we should simply put the mathematical statement in the line , but before that we close the quotes and start a bracket and after that:"
      ],
      "metadata": {
        "id": "tps2kk_q_yb0"
      }
    },
    {
      "cell_type": "code",
      "source": [
        "PRICE = f\"The price of a iPhone 16 Pro Max is ${30*50}\"\n",
        "print (PRICE)"
      ],
      "metadata": {
        "colab": {
          "base_uri": "https://localhost:8080/"
        },
        "id": "HDSLDGj9EWqJ",
        "outputId": "61017df8-c464-4c3e-ef9f-ef5f4975d776"
      },
      "execution_count": 26,
      "outputs": [
        {
          "output_type": "stream",
          "name": "stdout",
          "text": [
            "The price of a iPhone 16 Pro Max is $1500\n"
          ]
        }
      ]
    }
  ]
}